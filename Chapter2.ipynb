{
 "cells": [
  {
   "cell_type": "code",
   "execution_count": 4,
   "id": "35935ade-a37e-4128-8499-a9f262699fb4",
   "metadata": {},
   "outputs": [
    {
     "data": {
      "text/plain": [
       "'Bài 1. Viết chương trình nhập vào một chuỗi\\nXuất ra màn hình chuỗi ký tự hoa\\nXuất ra màn hình chuỗi ký tự có ký tự đầu là ký tự hoa\\nXuất ra màn hình chuỗi ký tự thường'"
      ]
     },
     "execution_count": 4,
     "metadata": {},
     "output_type": "execute_result"
    }
   ],
   "source": [
    "\"\"\"\n",
    "Bài 1. Viết chương trình nhập vào một chuỗi\n",
    "Xuất ra màn hình chuỗi ký tự hoa\n",
    "Xuất ra màn hình chuỗi ký tự có ký tự đầu là ký tự hoa\n",
    "Xuất ra màn hình chuỗi ký tự thường\n",
    "\"\"\"\n"
   ]
  },
  {
   "cell_type": "code",
   "execution_count": null,
   "id": "9d2f01df-e2a9-4b2c-8cc6-fc4b9af2cdce",
   "metadata": {},
   "outputs": [],
   "source": [
    "st = input(\"Enter your string:\")\n",
    "st_upper = st.upper()\n",
    "st_lower = st.lower()\n",
    "st_title = st.title()\n",
    "\n",
    "print(\"A Upper String is: \" + st_upper)\n",
    "print(\"A Lower String is : \" + st_lower)\n",
    "print(\"A Title String is : \" + st_title)"
   ]
  },
  {
   "cell_type": "code",
   "execution_count": 5,
   "id": "98e97b62-9325-4274-80fe-98c384875cbc",
   "metadata": {},
   "outputs": [
    {
     "data": {
      "text/plain": [
       "'\\nBài 2. Cho chuỗi biểu diễn địa chỉ email:   \" minhnhutvh@gmail.com\" \\nRút trích và hiển thị chuỗi \"gmail.com\" (Đây chính là  tên Host)\\n'"
      ]
     },
     "execution_count": 5,
     "metadata": {},
     "output_type": "execute_result"
    }
   ],
   "source": [
    "'''\n",
    "Bài 2. Cho chuỗi biểu diễn địa chỉ email:   \" minhnhutvh@gmail.com\" \n",
    "Rút trích và hiển thị chuỗi \"gmail.com\" (Đây chính là  tên Host)\n",
    "'''"
   ]
  },
  {
   "cell_type": "code",
   "execution_count": 3,
   "id": "2208cd36-d314-4927-9fb5-55bc689b501e",
   "metadata": {},
   "outputs": [
    {
     "name": "stdout",
     "output_type": "stream",
     "text": [
      "gmail.com\n"
     ]
    }
   ],
   "source": [
    "data = \"minhnhutvh@gmail.com\"\n",
    "position = data.find(\"@\")               \n",
    "host = data[position +1 :]\n",
    "print(host)\n"
   ]
  },
  {
   "cell_type": "code",
   "execution_count": 4,
   "id": "2411f1dd-bada-4dc7-90be-d5b14be8685d",
   "metadata": {},
   "outputs": [
    {
     "data": {
      "text/plain": [
       "'\\nBài 3. Cho chuỗi biểu diễn:  \\n        ‘minhnhutvh@gmai.com Sat Jan 5 09:14:16’\\nRút trích và hiển thị chuỗi “gmail.com”\\n'"
      ]
     },
     "execution_count": 4,
     "metadata": {},
     "output_type": "execute_result"
    }
   ],
   "source": [
    "'''\n",
    "Bài 3. Cho chuỗi biểu diễn:  \n",
    "        ‘minhnhutvh@gmai.com Sat Jan 5 09:14:16’\n",
    "Rút trích và hiển thị chuỗi “gmail.com”\n",
    "'''"
   ]
  },
  {
   "cell_type": "code",
   "execution_count": 7,
   "id": "c60f43e5-e0ba-4f2f-be62-a3df3ed218a8",
   "metadata": {},
   "outputs": [
    {
     "name": "stdout",
     "output_type": "stream",
     "text": [
      "gmail.com\n"
     ]
    }
   ],
   "source": [
    "data = \"minhnhutvh@gmail.com Sat Jan 5 09:14:16\"\n",
    "Start_position = data.find(\"@\")                #  10\n",
    "End_position = data.find(\" \", Start_position)  #  26\n",
    "host = data[Start_position +1 : End_position]\n",
    "print(host)\n"
   ]
  },
  {
   "cell_type": "code",
   "execution_count": 8,
   "id": "4a1b2728-50bc-488b-9e8d-db3b27daf173",
   "metadata": {},
   "outputs": [
    {
     "data": {
      "text/plain": [
       "' Những bài thực hành còn lại. Sinh viên tự làm'"
      ]
     },
     "execution_count": 8,
     "metadata": {},
     "output_type": "execute_result"
    }
   ],
   "source": [
    "''' Những bài thực hành còn lại. Sinh viên tự làm'''"
   ]
  },
  {
   "cell_type": "code",
   "execution_count": null,
   "id": "d7e501cf-58a4-4d4d-bc28-6c8d4b93ce7a",
   "metadata": {},
   "outputs": [],
   "source": [
    "#Bai 6"
   ]
  },
  {
   "cell_type": "code",
   "execution_count": 11,
   "id": "a09e266e-44ed-469d-8980-7e9e8b09fca4",
   "metadata": {},
   "outputs": [
    {
     "name": "stdin",
     "output_type": "stream",
     "text": [
      "Nhap r:  4\n",
      "Nhap h:  3\n"
     ]
    },
    {
     "name": "stdout",
     "output_type": "stream",
     "text": [
      "150.79644737231007\n"
     ]
    }
   ],
   "source": [
    "import math\n",
    "r = float(input('Nhap r: '))\n",
    "h = float(input('Nhap h: '))\n",
    "V = math.pi*r*r*h\n",
    "print(V)"
   ]
  },
  {
   "cell_type": "code",
   "execution_count": null,
   "id": "3553d02c-1401-489e-aad6-3f6ce30778dc",
   "metadata": {},
   "outputs": [],
   "source": [
    "#Bai 7"
   ]
  },
  {
   "cell_type": "code",
   "execution_count": 21,
   "id": "e8cb6e02-5abd-4707-9304-37ca0f7b493e",
   "metadata": {},
   "outputs": [
    {
     "name": "stdin",
     "output_type": "stream",
     "text": [
      "Nhap a:  3\n",
      "Nhap b:  3\n",
      "Nhap c:  3\n",
      "Nhap A(rad):  1.0472\n",
      "Nhap B(rad):  1.0472\n",
      "Nhap C(rad):  1.0472\n"
     ]
    },
    {
     "name": "stdout",
     "output_type": "stream",
     "text": [
      "3.897119826825944\n"
     ]
    }
   ],
   "source": [
    "import math\n",
    "a = float(input('Nhap a: '))\n",
    "b = float(input('Nhap b: '))\n",
    "c = float(input('Nhap c: '))\n",
    "\n",
    "A = float(input('Nhap A(rad): '))\n",
    "B = float(input('Nhap B(rad): '))\n",
    "C = float(input('Nhap C(rad): '))\n",
    "\n",
    "S = 0.5*a*b*math.sin(C)\n",
    "print(S)"
   ]
  },
  {
   "cell_type": "code",
   "execution_count": null,
   "id": "816d5a7c-a638-47c7-b41d-d5b0c35d8e50",
   "metadata": {},
   "outputs": [],
   "source": [
    "#Bai 8"
   ]
  },
  {
   "cell_type": "code",
   "execution_count": 14,
   "id": "4fcbe966-fde2-46b2-898a-477eb12f81c4",
   "metadata": {},
   "outputs": [
    {
     "name": "stdin",
     "output_type": "stream",
     "text": [
      "Nhap a:  3\n"
     ]
    },
    {
     "name": "stdout",
     "output_type": "stream",
     "text": [
      "3.8971143170299736\n"
     ]
    }
   ],
   "source": [
    "import math\n",
    "a = float(input('Nhap a: '))\n",
    "S=a*a*(math.sqrt(3)/4)\n",
    "print(S)"
   ]
  },
  {
   "cell_type": "code",
   "execution_count": null,
   "id": "5b026232-7eee-414f-91a0-37eb96aa050b",
   "metadata": {},
   "outputs": [],
   "source": [
    "#Bai 9"
   ]
  },
  {
   "cell_type": "code",
   "execution_count": null,
   "id": "a905a381-e728-4c31-975f-ad359357ba2b",
   "metadata": {},
   "outputs": [],
   "source": [
    "kết quả bài 7 và 8 bằng nhau"
   ]
  },
  {
   "cell_type": "code",
   "execution_count": null,
   "id": "8bc79be6-56ab-4b57-a1a1-40cee45261d4",
   "metadata": {},
   "outputs": [],
   "source": [
    "#Bai 10"
   ]
  },
  {
   "cell_type": "code",
   "execution_count": 1,
   "id": "99aba85b-1b41-41c5-bb55-2029f4c2eeb7",
   "metadata": {},
   "outputs": [
    {
     "name": "stdin",
     "output_type": "stream",
     "text": [
      "Nhap a:  3\n",
      "Nhap b:  5\n"
     ]
    },
    {
     "name": "stdout",
     "output_type": "stream",
     "text": [
      "15.0\n"
     ]
    }
   ],
   "source": [
    "a = float(input('Nhap a: '))\n",
    "b = float(input('Nhap b: '))\n",
    "S = a*b\n",
    "print(S)"
   ]
  },
  {
   "cell_type": "code",
   "execution_count": null,
   "id": "31ecaa1c-9754-49cb-b7c2-fcc440ca8b88",
   "metadata": {},
   "outputs": [],
   "source": [
    "#Bai 11"
   ]
  },
  {
   "cell_type": "code",
   "execution_count": 2,
   "id": "8ff0d930-9622-43c0-a899-6780b8dce9af",
   "metadata": {},
   "outputs": [
    {
     "name": "stdin",
     "output_type": "stream",
     "text": [
      "Nhap a:  500\n",
      "Nhap b:  250\n"
     ]
    },
    {
     "name": "stdout",
     "output_type": "stream",
     "text": [
      "2.869605142332415\n"
     ]
    }
   ],
   "source": [
    "a = float(input('Nhap a: '))\n",
    "b = float(input('Nhap b: '))\n",
    "S = a*b\n",
    "DDV = S/43560\n",
    "print(DDV)"
   ]
  },
  {
   "cell_type": "code",
   "execution_count": null,
   "id": "24c046b4-28b7-4bab-930f-e3f806ba497c",
   "metadata": {},
   "outputs": [],
   "source": [
    "#Bai 12"
   ]
  },
  {
   "cell_type": "code",
   "execution_count": 7,
   "id": "5bed4174-2613-43e7-b5d7-7fda4bc8276f",
   "metadata": {},
   "outputs": [
    {
     "name": "stdin",
     "output_type": "stream",
     "text": [
      "Nhap tienan:  500000\n"
     ]
    },
    {
     "name": "stdout",
     "output_type": "stream",
     "text": [
      "615000.0 VND\n"
     ]
    }
   ],
   "source": [
    "tienan = float(input('Nhap tienan: '))\n",
    "tienbo = tienan*0.18\n",
    "tienthue = tienan*0.05\n",
    "tong = tienan + tienbo + tienthue\n",
    "print(tong,\"VND\")"
   ]
  },
  {
   "cell_type": "code",
   "execution_count": null,
   "id": "8eefccb2-f9d9-4a7b-8991-76bd46676bbb",
   "metadata": {},
   "outputs": [],
   "source": [
    "#Bai 13"
   ]
  },
  {
   "cell_type": "code",
   "execution_count": 10,
   "id": "35279084-8a16-4cb4-829a-f5554a93a8c3",
   "metadata": {},
   "outputs": [
    {
     "name": "stdin",
     "output_type": "stream",
     "text": [
      "Nhap n:  10\n"
     ]
    },
    {
     "name": "stdout",
     "output_type": "stream",
     "text": [
      "Tong so tu 1 den 10 la 55\n"
     ]
    }
   ],
   "source": [
    "n = int(input('Nhap n: '))\n",
    "tong = (n*(n+1))//2\n",
    "print(\"Tong so tu 1 den\",n,\"la\",tong)"
   ]
  },
  {
   "cell_type": "code",
   "execution_count": null,
   "id": "f39ad2a7-e1bb-43e8-af61-ce1870e18069",
   "metadata": {},
   "outputs": [],
   "source": [
    "#Bai 14"
   ]
  },
  {
   "cell_type": "code",
   "execution_count": 11,
   "id": "88ed6372-feb2-4847-829e-86753321b6c1",
   "metadata": {},
   "outputs": [
    {
     "name": "stdin",
     "output_type": "stream",
     "text": [
      "Nhap a:  10\n",
      "Nhap b:  3\n"
     ]
    },
    {
     "name": "stdout",
     "output_type": "stream",
     "text": [
      "13\n",
      "7\n",
      "30\n",
      "3.3333333333333335\n",
      "1\n",
      "1000\n"
     ]
    }
   ],
   "source": [
    "a = int(input('Nhap a: '))\n",
    "b = int(input('Nhap b: '))\n",
    "print(a+b)\n",
    "print(a-b)\n",
    "print(a*b)\n",
    "print(a/b)\n",
    "print(a%b)\n",
    "print(a**b)"
   ]
  },
  {
   "cell_type": "code",
   "execution_count": null,
   "id": "bb3dab2d-a774-46a7-94bb-7aff2dd07023",
   "metadata": {},
   "outputs": [],
   "source": [
    "#Bai 15"
   ]
  },
  {
   "cell_type": "code",
   "execution_count": null,
   "id": "794ad425-10c6-4c11-aa2d-3f9e1fba6813",
   "metadata": {},
   "outputs": [],
   "source": []
  }
 ],
 "metadata": {
  "kernelspec": {
   "display_name": "Python [conda env:base] *",
   "language": "python",
   "name": "conda-base-py"
  },
  "language_info": {
   "codemirror_mode": {
    "name": "ipython",
    "version": 3
   },
   "file_extension": ".py",
   "mimetype": "text/x-python",
   "name": "python",
   "nbconvert_exporter": "python",
   "pygments_lexer": "ipython3",
   "version": "3.13.5"
  }
 },
 "nbformat": 4,
 "nbformat_minor": 5
}
